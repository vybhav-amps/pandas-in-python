{
 "cells": [
  {
   "cell_type": "markdown",
   "metadata": {},
   "source": [
    "# Intro:"
   ]
  },
  {
   "cell_type": "markdown",
   "metadata": {},
   "source": [
    "Pandas is a Python library used for working with data sets.\n",
    "\n",
    "It has functions for analyzing, cleaning, exploring, and manipulating data.\n",
    "\n",
    "Pandas allows us to analyze big data and make conclusions based on statistical theories.\n",
    "\n",
    "Pandas can clean messy data sets, and make them readable and relevant.\n",
    "\n",
    "Relevant data is very important in data science and machine learning."
   ]
  },
  {
   "cell_type": "markdown",
   "metadata": {},
   "source": [
    "## import"
   ]
  },
  {
   "cell_type": "code",
   "execution_count": 1,
   "metadata": {},
   "outputs": [],
   "source": [
    "import pandas as pd"
   ]
  },
  {
   "cell_type": "markdown",
   "metadata": {},
   "source": [
    "### Data Frame"
   ]
  },
  {
   "cell_type": "code",
   "execution_count": 2,
   "metadata": {},
   "outputs": [
    {
     "name": "stdout",
     "output_type": "stream",
     "text": [
      "   colors  numbers    cars\n",
      "0     red        2     BMW\n",
      "1    blue        5   Honda\n",
      "2  yellow        1  Bently\n",
      "3   green        8     KIA\n"
     ]
    }
   ],
   "source": [
    "mydataset = {\n",
    "              'colors': [\"red\", \"blue\", \"yellow\",\"green\"],\n",
    "              'numbers': [2, 5, 1, 8],\n",
    "              'cars': ['BMW', 'Honda', 'Bently', 'KIA']\n",
    "            }\n",
    "\n",
    "df = pd.DataFrame(mydataset)\n",
    "\n",
    "print(df)"
   ]
  },
  {
   "cell_type": "code",
   "execution_count": 3,
   "metadata": {},
   "outputs": [
    {
     "data": {
      "text/html": [
       "<div>\n",
       "<style scoped>\n",
       "    .dataframe tbody tr th:only-of-type {\n",
       "        vertical-align: middle;\n",
       "    }\n",
       "\n",
       "    .dataframe tbody tr th {\n",
       "        vertical-align: top;\n",
       "    }\n",
       "\n",
       "    .dataframe thead th {\n",
       "        text-align: right;\n",
       "    }\n",
       "</style>\n",
       "<table border=\"1\" class=\"dataframe\">\n",
       "  <thead>\n",
       "    <tr style=\"text-align: right;\">\n",
       "      <th></th>\n",
       "      <th>colors</th>\n",
       "      <th>numbers</th>\n",
       "      <th>cars</th>\n",
       "    </tr>\n",
       "  </thead>\n",
       "  <tbody>\n",
       "    <tr>\n",
       "      <td>0</td>\n",
       "      <td>red</td>\n",
       "      <td>2</td>\n",
       "      <td>BMW</td>\n",
       "    </tr>\n",
       "    <tr>\n",
       "      <td>1</td>\n",
       "      <td>blue</td>\n",
       "      <td>5</td>\n",
       "      <td>Honda</td>\n",
       "    </tr>\n",
       "    <tr>\n",
       "      <td>2</td>\n",
       "      <td>yellow</td>\n",
       "      <td>1</td>\n",
       "      <td>Bently</td>\n",
       "    </tr>\n",
       "    <tr>\n",
       "      <td>3</td>\n",
       "      <td>green</td>\n",
       "      <td>8</td>\n",
       "      <td>KIA</td>\n",
       "    </tr>\n",
       "  </tbody>\n",
       "</table>\n",
       "</div>"
      ],
      "text/plain": [
       "   colors  numbers    cars\n",
       "0     red        2     BMW\n",
       "1    blue        5   Honda\n",
       "2  yellow        1  Bently\n",
       "3   green        8     KIA"
      ]
     },
     "execution_count": 3,
     "metadata": {},
     "output_type": "execute_result"
    }
   ],
   "source": [
    "df"
   ]
  },
  {
   "cell_type": "markdown",
   "metadata": {},
   "source": [
    "### Series"
   ]
  },
  {
   "cell_type": "code",
   "execution_count": 4,
   "metadata": {},
   "outputs": [
    {
     "name": "stdout",
     "output_type": "stream",
     "text": [
      "0    4\n",
      "1    7\n",
      "2    9\n",
      "3    A\n",
      "4    B\n",
      "dtype: object\n"
     ]
    }
   ],
   "source": [
    "a = [4, 7, 9, 'A', 'B']\n",
    "\n",
    "s = pd.Series(a)\n",
    "\n",
    "print(s)"
   ]
  },
  {
   "cell_type": "code",
   "execution_count": 5,
   "metadata": {},
   "outputs": [
    {
     "name": "stdout",
     "output_type": "stream",
     "text": [
      "4 B\n"
     ]
    }
   ],
   "source": [
    "print(s[0],s[4]) #Lables"
   ]
  },
  {
   "cell_type": "code",
   "execution_count": 6,
   "metadata": {},
   "outputs": [
    {
     "name": "stdout",
     "output_type": "stream",
     "text": [
      "a    3\n",
      "b    6\n",
      "c    0\n",
      "d    x\n",
      "e    y\n",
      "dtype: object\n"
     ]
    }
   ],
   "source": [
    "# with indexing\n",
    "a1 = [3, 6, 0, 'x', 'y']\n",
    "\n",
    "s1 = pd.Series(a1,index=['a','b','c','d','e'])\n",
    "\n",
    "print(s1)"
   ]
  },
  {
   "cell_type": "code",
   "execution_count": 7,
   "metadata": {},
   "outputs": [
    {
     "name": "stdout",
     "output_type": "stream",
     "text": [
      "6 y\n"
     ]
    }
   ],
   "source": [
    "print(s1['b'],s1['e'])"
   ]
  },
  {
   "cell_type": "code",
   "execution_count": 8,
   "metadata": {},
   "outputs": [
    {
     "name": "stdout",
     "output_type": "stream",
     "text": [
      "a    40\n",
      "b    30\n",
      "d    10\n",
      "c    90\n",
      "dtype: int64\n"
     ]
    }
   ],
   "source": [
    "# with dictionary\n",
    "calories = {\"a\": 40, \"b\": 30, \"c\": 90, \"d\": 10}\n",
    "\n",
    "s2 = pd.Series(calories, index = [\"a\", \"b\", \"d\",\"c\"])\n",
    "\n",
    "print(s2)"
   ]
  },
  {
   "cell_type": "markdown",
   "metadata": {},
   "source": [
    "### Data frame with indexing"
   ]
  },
  {
   "cell_type": "code",
   "execution_count": 9,
   "metadata": {},
   "outputs": [
    {
     "name": "stdout",
     "output_type": "stream",
     "text": [
      "   colors  numbers    cars\n",
      "a     red        2     BMW\n",
      "b    blue        5   Honda\n",
      "c  yellow        1  Bently\n",
      "d   green        8     KIA\n"
     ]
    }
   ],
   "source": [
    "data = {\n",
    "        'colors': [\"red\", \"blue\", \"yellow\",\"green\"],\n",
    "        'numbers': [2, 5, 1, 8],\n",
    "        'cars': ['BMW', 'Honda', 'Bently', 'KIA']\n",
    "}\n",
    "\n",
    "df1 = pd.DataFrame(data, index = [\"a\", \"b\", \"c\", \"d\"])\n",
    "\n",
    "print(df1) "
   ]
  },
  {
   "cell_type": "code",
   "execution_count": 10,
   "metadata": {},
   "outputs": [
    {
     "data": {
      "text/html": [
       "<div>\n",
       "<style scoped>\n",
       "    .dataframe tbody tr th:only-of-type {\n",
       "        vertical-align: middle;\n",
       "    }\n",
       "\n",
       "    .dataframe tbody tr th {\n",
       "        vertical-align: top;\n",
       "    }\n",
       "\n",
       "    .dataframe thead th {\n",
       "        text-align: right;\n",
       "    }\n",
       "</style>\n",
       "<table border=\"1\" class=\"dataframe\">\n",
       "  <thead>\n",
       "    <tr style=\"text-align: right;\">\n",
       "      <th></th>\n",
       "      <th>colors</th>\n",
       "      <th>numbers</th>\n",
       "      <th>cars</th>\n",
       "    </tr>\n",
       "  </thead>\n",
       "  <tbody>\n",
       "    <tr>\n",
       "      <td>a</td>\n",
       "      <td>red</td>\n",
       "      <td>2</td>\n",
       "      <td>BMW</td>\n",
       "    </tr>\n",
       "    <tr>\n",
       "      <td>b</td>\n",
       "      <td>blue</td>\n",
       "      <td>5</td>\n",
       "      <td>Honda</td>\n",
       "    </tr>\n",
       "    <tr>\n",
       "      <td>c</td>\n",
       "      <td>yellow</td>\n",
       "      <td>1</td>\n",
       "      <td>Bently</td>\n",
       "    </tr>\n",
       "    <tr>\n",
       "      <td>d</td>\n",
       "      <td>green</td>\n",
       "      <td>8</td>\n",
       "      <td>KIA</td>\n",
       "    </tr>\n",
       "  </tbody>\n",
       "</table>\n",
       "</div>"
      ],
      "text/plain": [
       "   colors  numbers    cars\n",
       "a     red        2     BMW\n",
       "b    blue        5   Honda\n",
       "c  yellow        1  Bently\n",
       "d   green        8     KIA"
      ]
     },
     "execution_count": 10,
     "metadata": {},
     "output_type": "execute_result"
    }
   ],
   "source": [
    "df1"
   ]
  },
  {
   "cell_type": "markdown",
   "metadata": {},
   "source": [
    "## Load Files Into a DataFrame"
   ]
  },
  {
   "cell_type": "code",
   "execution_count": 11,
   "metadata": {},
   "outputs": [
    {
     "data": {
      "text/html": [
       "<div>\n",
       "<style scoped>\n",
       "    .dataframe tbody tr th:only-of-type {\n",
       "        vertical-align: middle;\n",
       "    }\n",
       "\n",
       "    .dataframe tbody tr th {\n",
       "        vertical-align: top;\n",
       "    }\n",
       "\n",
       "    .dataframe thead th {\n",
       "        text-align: right;\n",
       "    }\n",
       "</style>\n",
       "<table border=\"1\" class=\"dataframe\">\n",
       "  <thead>\n",
       "    <tr style=\"text-align: right;\">\n",
       "      <th></th>\n",
       "      <th>Id</th>\n",
       "      <th>SepalLengthCm</th>\n",
       "      <th>SepalWidthCm</th>\n",
       "      <th>PetalLengthCm</th>\n",
       "      <th>PetalWidthCm</th>\n",
       "      <th>Species</th>\n",
       "    </tr>\n",
       "  </thead>\n",
       "  <tbody>\n",
       "    <tr>\n",
       "      <td>0</td>\n",
       "      <td>1</td>\n",
       "      <td>5.1</td>\n",
       "      <td>3.5</td>\n",
       "      <td>1.4</td>\n",
       "      <td>0.2</td>\n",
       "      <td>Iris-setosa</td>\n",
       "    </tr>\n",
       "    <tr>\n",
       "      <td>1</td>\n",
       "      <td>2</td>\n",
       "      <td>4.9</td>\n",
       "      <td>3.0</td>\n",
       "      <td>1.4</td>\n",
       "      <td>0.2</td>\n",
       "      <td>Iris-setosa</td>\n",
       "    </tr>\n",
       "    <tr>\n",
       "      <td>2</td>\n",
       "      <td>3</td>\n",
       "      <td>4.7</td>\n",
       "      <td>3.2</td>\n",
       "      <td>1.3</td>\n",
       "      <td>0.2</td>\n",
       "      <td>Iris-setosa</td>\n",
       "    </tr>\n",
       "    <tr>\n",
       "      <td>3</td>\n",
       "      <td>4</td>\n",
       "      <td>4.6</td>\n",
       "      <td>3.1</td>\n",
       "      <td>1.5</td>\n",
       "      <td>0.2</td>\n",
       "      <td>Iris-setosa</td>\n",
       "    </tr>\n",
       "    <tr>\n",
       "      <td>4</td>\n",
       "      <td>5</td>\n",
       "      <td>5.0</td>\n",
       "      <td>3.6</td>\n",
       "      <td>1.4</td>\n",
       "      <td>0.2</td>\n",
       "      <td>Iris-setosa</td>\n",
       "    </tr>\n",
       "    <tr>\n",
       "      <td>...</td>\n",
       "      <td>...</td>\n",
       "      <td>...</td>\n",
       "      <td>...</td>\n",
       "      <td>...</td>\n",
       "      <td>...</td>\n",
       "      <td>...</td>\n",
       "    </tr>\n",
       "    <tr>\n",
       "      <td>145</td>\n",
       "      <td>146</td>\n",
       "      <td>6.7</td>\n",
       "      <td>3.0</td>\n",
       "      <td>5.2</td>\n",
       "      <td>2.3</td>\n",
       "      <td>Iris-virginica</td>\n",
       "    </tr>\n",
       "    <tr>\n",
       "      <td>146</td>\n",
       "      <td>147</td>\n",
       "      <td>6.3</td>\n",
       "      <td>2.5</td>\n",
       "      <td>5.0</td>\n",
       "      <td>1.9</td>\n",
       "      <td>Iris-virginica</td>\n",
       "    </tr>\n",
       "    <tr>\n",
       "      <td>147</td>\n",
       "      <td>148</td>\n",
       "      <td>6.5</td>\n",
       "      <td>3.0</td>\n",
       "      <td>5.2</td>\n",
       "      <td>2.0</td>\n",
       "      <td>Iris-virginica</td>\n",
       "    </tr>\n",
       "    <tr>\n",
       "      <td>148</td>\n",
       "      <td>149</td>\n",
       "      <td>6.2</td>\n",
       "      <td>3.4</td>\n",
       "      <td>5.4</td>\n",
       "      <td>2.3</td>\n",
       "      <td>Iris-virginica</td>\n",
       "    </tr>\n",
       "    <tr>\n",
       "      <td>149</td>\n",
       "      <td>150</td>\n",
       "      <td>5.9</td>\n",
       "      <td>3.0</td>\n",
       "      <td>5.1</td>\n",
       "      <td>1.8</td>\n",
       "      <td>Iris-virginica</td>\n",
       "    </tr>\n",
       "  </tbody>\n",
       "</table>\n",
       "<p>150 rows × 6 columns</p>\n",
       "</div>"
      ],
      "text/plain": [
       "      Id  SepalLengthCm  SepalWidthCm  PetalLengthCm  PetalWidthCm  \\\n",
       "0      1            5.1           3.5            1.4           0.2   \n",
       "1      2            4.9           3.0            1.4           0.2   \n",
       "2      3            4.7           3.2            1.3           0.2   \n",
       "3      4            4.6           3.1            1.5           0.2   \n",
       "4      5            5.0           3.6            1.4           0.2   \n",
       "..   ...            ...           ...            ...           ...   \n",
       "145  146            6.7           3.0            5.2           2.3   \n",
       "146  147            6.3           2.5            5.0           1.9   \n",
       "147  148            6.5           3.0            5.2           2.0   \n",
       "148  149            6.2           3.4            5.4           2.3   \n",
       "149  150            5.9           3.0            5.1           1.8   \n",
       "\n",
       "            Species  \n",
       "0       Iris-setosa  \n",
       "1       Iris-setosa  \n",
       "2       Iris-setosa  \n",
       "3       Iris-setosa  \n",
       "4       Iris-setosa  \n",
       "..              ...  \n",
       "145  Iris-virginica  \n",
       "146  Iris-virginica  \n",
       "147  Iris-virginica  \n",
       "148  Iris-virginica  \n",
       "149  Iris-virginica  \n",
       "\n",
       "[150 rows x 6 columns]"
      ]
     },
     "execution_count": 11,
     "metadata": {},
     "output_type": "execute_result"
    }
   ],
   "source": [
    "df2 = pd.read_csv('Iris.csv')\n",
    "df2"
   ]
  },
  {
   "cell_type": "code",
   "execution_count": 12,
   "metadata": {},
   "outputs": [
    {
     "name": "stdout",
     "output_type": "stream",
     "text": [
      "      Id  SepalLengthCm  SepalWidthCm  PetalLengthCm  PetalWidthCm          Species\n",
      "0      1            5.1           3.5            1.4           0.2      Iris-setosa\n",
      "1      2            4.9           3.0            1.4           0.2      Iris-setosa\n",
      "2      3            4.7           3.2            1.3           0.2      Iris-setosa\n",
      "3      4            4.6           3.1            1.5           0.2      Iris-setosa\n",
      "4      5            5.0           3.6            1.4           0.2      Iris-setosa\n",
      "5      6            5.4           3.9            1.7           0.4      Iris-setosa\n",
      "6      7            4.6           3.4            1.4           0.3      Iris-setosa\n",
      "7      8            5.0           3.4            1.5           0.2      Iris-setosa\n",
      "8      9            4.4           2.9            1.4           0.2      Iris-setosa\n",
      "9     10            4.9           3.1            1.5           0.1      Iris-setosa\n",
      "10    11            5.4           3.7            1.5           0.2      Iris-setosa\n",
      "11    12            4.8           3.4            1.6           0.2      Iris-setosa\n",
      "12    13            4.8           3.0            1.4           0.1      Iris-setosa\n",
      "13    14            4.3           3.0            1.1           0.1      Iris-setosa\n",
      "14    15            5.8           4.0            1.2           0.2      Iris-setosa\n",
      "15    16            5.7           4.4            1.5           0.4      Iris-setosa\n",
      "16    17            5.4           3.9            1.3           0.4      Iris-setosa\n",
      "17    18            5.1           3.5            1.4           0.3      Iris-setosa\n",
      "18    19            5.7           3.8            1.7           0.3      Iris-setosa\n",
      "19    20            5.1           3.8            1.5           0.3      Iris-setosa\n",
      "20    21            5.4           3.4            1.7           0.2      Iris-setosa\n",
      "21    22            5.1           3.7            1.5           0.4      Iris-setosa\n",
      "22    23            4.6           3.6            1.0           0.2      Iris-setosa\n",
      "23    24            5.1           3.3            1.7           0.5      Iris-setosa\n",
      "24    25            4.8           3.4            1.9           0.2      Iris-setosa\n",
      "25    26            5.0           3.0            1.6           0.2      Iris-setosa\n",
      "26    27            5.0           3.4            1.6           0.4      Iris-setosa\n",
      "27    28            5.2           3.5            1.5           0.2      Iris-setosa\n",
      "28    29            5.2           3.4            1.4           0.2      Iris-setosa\n",
      "29    30            4.7           3.2            1.6           0.2      Iris-setosa\n",
      "30    31            4.8           3.1            1.6           0.2      Iris-setosa\n",
      "31    32            5.4           3.4            1.5           0.4      Iris-setosa\n",
      "32    33            5.2           4.1            1.5           0.1      Iris-setosa\n",
      "33    34            5.5           4.2            1.4           0.2      Iris-setosa\n",
      "34    35            4.9           3.1            1.5           0.1      Iris-setosa\n",
      "35    36            5.0           3.2            1.2           0.2      Iris-setosa\n",
      "36    37            5.5           3.5            1.3           0.2      Iris-setosa\n",
      "37    38            4.9           3.1            1.5           0.1      Iris-setosa\n",
      "38    39            4.4           3.0            1.3           0.2      Iris-setosa\n",
      "39    40            5.1           3.4            1.5           0.2      Iris-setosa\n",
      "40    41            5.0           3.5            1.3           0.3      Iris-setosa\n",
      "41    42            4.5           2.3            1.3           0.3      Iris-setosa\n",
      "42    43            4.4           3.2            1.3           0.2      Iris-setosa\n",
      "43    44            5.0           3.5            1.6           0.6      Iris-setosa\n",
      "44    45            5.1           3.8            1.9           0.4      Iris-setosa\n",
      "45    46            4.8           3.0            1.4           0.3      Iris-setosa\n",
      "46    47            5.1           3.8            1.6           0.2      Iris-setosa\n",
      "47    48            4.6           3.2            1.4           0.2      Iris-setosa\n",
      "48    49            5.3           3.7            1.5           0.2      Iris-setosa\n",
      "49    50            5.0           3.3            1.4           0.2      Iris-setosa\n",
      "50    51            7.0           3.2            4.7           1.4  Iris-versicolor\n",
      "51    52            6.4           3.2            4.5           1.5  Iris-versicolor\n",
      "52    53            6.9           3.1            4.9           1.5  Iris-versicolor\n",
      "53    54            5.5           2.3            4.0           1.3  Iris-versicolor\n",
      "54    55            6.5           2.8            4.6           1.5  Iris-versicolor\n",
      "55    56            5.7           2.8            4.5           1.3  Iris-versicolor\n",
      "56    57            6.3           3.3            4.7           1.6  Iris-versicolor\n",
      "57    58            4.9           2.4            3.3           1.0  Iris-versicolor\n",
      "58    59            6.6           2.9            4.6           1.3  Iris-versicolor\n",
      "59    60            5.2           2.7            3.9           1.4  Iris-versicolor\n",
      "60    61            5.0           2.0            3.5           1.0  Iris-versicolor\n",
      "61    62            5.9           3.0            4.2           1.5  Iris-versicolor\n",
      "62    63            6.0           2.2            4.0           1.0  Iris-versicolor\n",
      "63    64            6.1           2.9            4.7           1.4  Iris-versicolor\n",
      "64    65            5.6           2.9            3.6           1.3  Iris-versicolor\n",
      "65    66            6.7           3.1            4.4           1.4  Iris-versicolor\n",
      "66    67            5.6           3.0            4.5           1.5  Iris-versicolor\n",
      "67    68            5.8           2.7            4.1           1.0  Iris-versicolor\n",
      "68    69            6.2           2.2            4.5           1.5  Iris-versicolor\n",
      "69    70            5.6           2.5            3.9           1.1  Iris-versicolor\n",
      "70    71            5.9           3.2            4.8           1.8  Iris-versicolor\n",
      "71    72            6.1           2.8            4.0           1.3  Iris-versicolor\n",
      "72    73            6.3           2.5            4.9           1.5  Iris-versicolor\n",
      "73    74            6.1           2.8            4.7           1.2  Iris-versicolor\n",
      "74    75            6.4           2.9            4.3           1.3  Iris-versicolor\n",
      "75    76            6.6           3.0            4.4           1.4  Iris-versicolor\n",
      "76    77            6.8           2.8            4.8           1.4  Iris-versicolor\n",
      "77    78            6.7           3.0            5.0           1.7  Iris-versicolor\n",
      "78    79            6.0           2.9            4.5           1.5  Iris-versicolor\n",
      "79    80            5.7           2.6            3.5           1.0  Iris-versicolor\n",
      "80    81            5.5           2.4            3.8           1.1  Iris-versicolor\n",
      "81    82            5.5           2.4            3.7           1.0  Iris-versicolor\n",
      "82    83            5.8           2.7            3.9           1.2  Iris-versicolor\n",
      "83    84            6.0           2.7            5.1           1.6  Iris-versicolor\n",
      "84    85            5.4           3.0            4.5           1.5  Iris-versicolor\n",
      "85    86            6.0           3.4            4.5           1.6  Iris-versicolor\n",
      "86    87            6.7           3.1            4.7           1.5  Iris-versicolor\n",
      "87    88            6.3           2.3            4.4           1.3  Iris-versicolor\n",
      "88    89            5.6           3.0            4.1           1.3  Iris-versicolor\n",
      "89    90            5.5           2.5            4.0           1.3  Iris-versicolor\n",
      "90    91            5.5           2.6            4.4           1.2  Iris-versicolor\n",
      "91    92            6.1           3.0            4.6           1.4  Iris-versicolor\n",
      "92    93            5.8           2.6            4.0           1.2  Iris-versicolor\n",
      "93    94            5.0           2.3            3.3           1.0  Iris-versicolor\n",
      "94    95            5.6           2.7            4.2           1.3  Iris-versicolor\n",
      "95    96            5.7           3.0            4.2           1.2  Iris-versicolor\n",
      "96    97            5.7           2.9            4.2           1.3  Iris-versicolor\n",
      "97    98            6.2           2.9            4.3           1.3  Iris-versicolor\n",
      "98    99            5.1           2.5            3.0           1.1  Iris-versicolor\n",
      "99   100            5.7           2.8            4.1           1.3  Iris-versicolor\n",
      "100  101            6.3           3.3            6.0           2.5   Iris-virginica\n",
      "101  102            5.8           2.7            5.1           1.9   Iris-virginica\n",
      "102  103            7.1           3.0            5.9           2.1   Iris-virginica\n",
      "103  104            6.3           2.9            5.6           1.8   Iris-virginica\n",
      "104  105            6.5           3.0            5.8           2.2   Iris-virginica\n",
      "105  106            7.6           3.0            6.6           2.1   Iris-virginica\n",
      "106  107            4.9           2.5            4.5           1.7   Iris-virginica\n",
      "107  108            7.3           2.9            6.3           1.8   Iris-virginica\n",
      "108  109            6.7           2.5            5.8           1.8   Iris-virginica\n",
      "109  110            7.2           3.6            6.1           2.5   Iris-virginica\n",
      "110  111            6.5           3.2            5.1           2.0   Iris-virginica\n",
      "111  112            6.4           2.7            5.3           1.9   Iris-virginica\n",
      "112  113            6.8           3.0            5.5           2.1   Iris-virginica\n",
      "113  114            5.7           2.5            5.0           2.0   Iris-virginica\n",
      "114  115            5.8           2.8            5.1           2.4   Iris-virginica\n",
      "115  116            6.4           3.2            5.3           2.3   Iris-virginica\n",
      "116  117            6.5           3.0            5.5           1.8   Iris-virginica\n",
      "117  118            7.7           3.8            6.7           2.2   Iris-virginica\n",
      "118  119            7.7           2.6            6.9           2.3   Iris-virginica\n",
      "119  120            6.0           2.2            5.0           1.5   Iris-virginica\n",
      "120  121            6.9           3.2            5.7           2.3   Iris-virginica\n",
      "121  122            5.6           2.8            4.9           2.0   Iris-virginica\n",
      "122  123            7.7           2.8            6.7           2.0   Iris-virginica\n",
      "123  124            6.3           2.7            4.9           1.8   Iris-virginica\n",
      "124  125            6.7           3.3            5.7           2.1   Iris-virginica\n",
      "125  126            7.2           3.2            6.0           1.8   Iris-virginica\n",
      "126  127            6.2           2.8            4.8           1.8   Iris-virginica\n",
      "127  128            6.1           3.0            4.9           1.8   Iris-virginica\n",
      "128  129            6.4           2.8            5.6           2.1   Iris-virginica\n",
      "129  130            7.2           3.0            5.8           1.6   Iris-virginica\n",
      "130  131            7.4           2.8            6.1           1.9   Iris-virginica\n",
      "131  132            7.9           3.8            6.4           2.0   Iris-virginica\n",
      "132  133            6.4           2.8            5.6           2.2   Iris-virginica\n",
      "133  134            6.3           2.8            5.1           1.5   Iris-virginica\n",
      "134  135            6.1           2.6            5.6           1.4   Iris-virginica\n",
      "135  136            7.7           3.0            6.1           2.3   Iris-virginica\n",
      "136  137            6.3           3.4            5.6           2.4   Iris-virginica\n",
      "137  138            6.4           3.1            5.5           1.8   Iris-virginica\n",
      "138  139            6.0           3.0            4.8           1.8   Iris-virginica\n",
      "139  140            6.9           3.1            5.4           2.1   Iris-virginica\n",
      "140  141            6.7           3.1            5.6           2.4   Iris-virginica\n",
      "141  142            6.9           3.1            5.1           2.3   Iris-virginica\n",
      "142  143            5.8           2.7            5.1           1.9   Iris-virginica\n",
      "143  144            6.8           3.2            5.9           2.3   Iris-virginica\n",
      "144  145            6.7           3.3            5.7           2.5   Iris-virginica\n",
      "145  146            6.7           3.0            5.2           2.3   Iris-virginica\n",
      "146  147            6.3           2.5            5.0           1.9   Iris-virginica\n",
      "147  148            6.5           3.0            5.2           2.0   Iris-virginica\n",
      "148  149            6.2           3.4            5.4           2.3   Iris-virginica\n",
      "149  150            5.9           3.0            5.1           1.8   Iris-virginica\n"
     ]
    }
   ],
   "source": [
    "print(df2.to_string()) #to print the entire DataFrame"
   ]
  },
  {
   "cell_type": "code",
   "execution_count": 13,
   "metadata": {},
   "outputs": [
    {
     "name": "stdout",
     "output_type": "stream",
     "text": [
      "<class 'pandas.core.frame.DataFrame'>\n",
      "RangeIndex: 150 entries, 0 to 149\n",
      "Data columns (total 6 columns):\n",
      "Id               150 non-null int64\n",
      "SepalLengthCm    150 non-null float64\n",
      "SepalWidthCm     150 non-null float64\n",
      "PetalLengthCm    150 non-null float64\n",
      "PetalWidthCm     150 non-null float64\n",
      "Species          150 non-null object\n",
      "dtypes: float64(4), int64(1), object(1)\n",
      "memory usage: 7.2+ KB\n"
     ]
    }
   ],
   "source": [
    "df2.info()  #information about data"
   ]
  }
 ],
 "metadata": {
  "kernelspec": {
   "display_name": "Python 3",
   "language": "python",
   "name": "python3"
  },
  "language_info": {
   "codemirror_mode": {
    "name": "ipython",
    "version": 3
   },
   "file_extension": ".py",
   "mimetype": "text/x-python",
   "name": "python",
   "nbconvert_exporter": "python",
   "pygments_lexer": "ipython3",
   "version": "3.7.4"
  }
 },
 "nbformat": 4,
 "nbformat_minor": 2
}
